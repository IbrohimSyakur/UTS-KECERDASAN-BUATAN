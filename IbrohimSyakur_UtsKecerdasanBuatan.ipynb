{
 "cells": [
  {
   "cell_type": "code",
   "execution_count": null,
   "id": "6fdd1065-b657-4b77-84b9-e62c5e334b24",
   "metadata": {},
   "outputs": [],
   "source": [
    "Ibrohim Syakur (221011403399)"
   ]
  },
  {
   "cell_type": "code",
   "execution_count": null,
   "id": "11b30ee4-7bf2-4231-a3f0-fbd0a8f264a8",
   "metadata": {},
   "outputs": [],
   "source": [
    "UTS KECERDASAN BUATAN"
   ]
  },
  {
   "cell_type": "code",
   "execution_count": 7,
   "id": "62171353-78f5-46fd-955c-30b5a64175c4",
   "metadata": {},
   "outputs": [],
   "source": [
    "# Data\n",
    "company_detail_list = [\n",
    "      {\n",
    "          'name': 'Company 1',\n",
    "          'domain': 'Retail',\n",
    "          'country': 'United States'\n",
    "      },\n",
    "      {\n",
    "          'name': 'Company 2',\n",
    "          'domain': 'Technology',\n",
    "          'country': 'United Kingdom'\n",
    "      },\n",
    "      {\n",
    "          'name': 'Company 3',\n",
    "          'domain': 'Healthcare',\n",
    "          'country': 'United States'\n",
    "      }\n",
    "]\n",
    "\n",
    "employee_detail_list = [\n",
    "     {\n",
    "          'name': 'EMP-0001',\n",
    "          'first_name': 'John',\n",
    "          'last_name': 'Doe',\n",
    "          'full_name': 'John Doe',\n",
    "          'company': 'Company 1',\n",
    "          'nationality': 'Australia'\n",
    "      },\n",
    "      {\n",
    "          'name': 'EMP-0002',\n",
    "          'first_name': 'Tom',\n",
    "          'last_name': 'Smith',\n",
    "          'full_name': 'Tom Smith',\n",
    "          'company': 'Company 2',\n",
    "          'nationality': 'United States'\n",
    "      },\n",
    "      {\n",
    "          'name': 'EMP-0003',\n",
    "          'first_name': 'Andrew',\n",
    "          'last_name': 'Sebastian',\n",
    "          'full_name': 'Andrew Sebastian',\n",
    "          'company': 'Company 3',\n",
    "          'nationality': 'United States'\n",
    "      },\n",
    "      {\n",
    "          'name': 'EMP-0005',\n",
    "          'first_name': 'Ying Han',\n",
    "          'last_name': 'Tan',\n",
    "          'full_name': 'Ying Han Tan',\n",
    "          'company': 'Company 1',\n",
    "          'nationality': 'Australia'\n",
    "      },\n",
    "      {\n",
    "          'name': 'EMP-0015',\n",
    "          'first_name': 'Kenneth',\n",
    "          'last_name': 'Ng',\n",
    "          'full_name': 'Kenneth Ng',\n",
    "          'company': 'Company 3',\n",
    "          'nationality': 'United States'\n",
    "      },\n",
    "      {\n",
    "          'name': 'EMP-0018',\n",
    "          'first_name': 'Rubby',\n",
    "          'last_name': 'Lee',\n",
    "          'full_name': 'Rubby Lee',\n",
    "          'company': 'Company 2',\n",
    "          'nationality': 'Hong Kong'\n",
    "      },\n",
    "     {\n",
    "          'name': 'EMP-0017',\n",
    "          'first_name': 'Robert',\n",
    "          'last_name': 'White',\n",
    "          'full_name': 'Robert White',\n",
    "          'company': 'Company 1',\n",
    "          'nationality': 'United Kingdom'\n",
    "      }\n",
    "]"
   ]
  },
  {
   "cell_type": "code",
   "execution_count": 8,
   "id": "379afaa5-bcb5-4941-a9d4-c9a7bdc7e265",
   "metadata": {},
   "outputs": [
    {
     "name": "stdout",
     "output_type": "stream",
     "text": [
      "[{'name': 'Company 3'}, {'name': 'Company 2'}, {'name': 'Company 1'}]\n"
     ]
    }
   ],
   "source": [
    "# Task 1\n",
    "company_detail_list = [\n",
    "      {'name': 'Company 1', 'domain': 'Retail', 'country': 'United States'},\n",
    "      {'name': 'Company 2', 'domain': 'Technology', 'country': 'United Kingdom'},\n",
    "      {'name': 'Company 3', 'domain': 'Healthcare', 'country': 'United States'}\n",
    "]\n",
    "\n",
    "sorted_companies = sorted(company_detail_list, key=lambda x: x['name'], reverse=True)\n",
    "sorted_companies_result = [{'name': company['name']} for company in sorted_companies]\n",
    "\n",
    "print(sorted_companies_result)"
   ]
  },
  {
   "cell_type": "code",
   "execution_count": 9,
   "id": "06a3a0d9-0534-4b46-97cb-e4f08dde7727",
   "metadata": {},
   "outputs": [
    {
     "name": "stdout",
     "output_type": "stream",
     "text": [
      "Company 1: Retail (United States)\n",
      "Company 2: Technology (United Kingdom)\n",
      "Company 3: Healthcare (United States)\n"
     ]
    }
   ],
   "source": [
    "# Task 2\n",
    "for company in company_detail_list:\n",
    "    print(f\"{company['name']}: {company['domain']} ({company['country']})\")"
   ]
  },
  {
   "cell_type": "code",
   "execution_count": 10,
   "id": "ecd01f83-cfa7-4740-b27b-29aa6ba17dfb",
   "metadata": {},
   "outputs": [
    {
     "name": "stdout",
     "output_type": "stream",
     "text": [
      "{'Retail': ['John Doe', 'Ying Han Tan', 'Robert White'], 'Technology': ['Tom Smith', 'Rubby Lee'], 'Healthcare': ['Andrew Sebastian', 'Kenneth Ng']}\n"
     ]
    }
   ],
   "source": [
    "# Task 3\n",
    "from collections import defaultdict\n",
    "\n",
    "employee_detail_list = [\n",
    "      {'name': 'EMP-0001', 'full_name': 'John Doe', 'company': 'Company 1', 'nationality': 'Australia'},\n",
    "      {'name': 'EMP-0002', 'full_name': 'Tom Smith', 'company': 'Company 2', 'nationality': 'United States'},\n",
    "      {'name': 'EMP-0003', 'full_name': 'Andrew Sebastian', 'company': 'Company 3', 'nationality': 'United States'},\n",
    "      {'name': 'EMP-0005', 'full_name': 'Ying Han Tan', 'company': 'Company 1', 'nationality': 'Australia'},\n",
    "      {'name': 'EMP-0015', 'full_name': 'Kenneth Ng', 'company': 'Company 3', 'nationality': 'United States'},\n",
    "      {'name': 'EMP-0018', 'full_name': 'Rubby Lee', 'company': 'Company 2', 'nationality': 'Hong Kong'},\n",
    "      {'name': 'EMP-0017', 'full_name': 'Robert White', 'company': 'Company 1', 'nationality': 'United Kingdom'}\n",
    "]\n",
    "\n",
    "# Mapping companies to domains\n",
    "company_domain_map = {company['name']: company['domain'] for company in company_detail_list}\n",
    "\n",
    "# Group employees by domain\n",
    "employees_by_domain = defaultdict(list)\n",
    "for employee in employee_detail_list:\n",
    "    domain = company_domain_map[employee['company']]\n",
    "    employees_by_domain[domain].append(employee['full_name'])\n",
    "\n",
    "print(dict(employees_by_domain))"
   ]
  },
  {
   "cell_type": "code",
   "execution_count": 11,
   "id": "b66ef98f-7a2e-40cc-ba5b-9ca8de821d09",
   "metadata": {},
   "outputs": [
    {
     "name": "stdout",
     "output_type": "stream",
     "text": [
      "[{'full_name': 'John Doe', 'company': 'Company 1', 'country': 'United States'}, {'full_name': 'Tom Smith', 'company': 'Company 2', 'country': 'United Kingdom'}, {'full_name': 'Andrew Sebastian', 'company': 'Company 3', 'country': 'United States'}, {'full_name': 'Ying Han Tan', 'company': 'Company 1', 'country': 'United States'}, {'full_name': 'Kenneth Ng', 'company': 'Company 3', 'country': 'United States'}, {'full_name': 'Rubby Lee', 'company': 'Company 2', 'country': 'United Kingdom'}, {'full_name': 'Robert White', 'company': 'Company 1', 'country': 'United States'}]\n"
     ]
    }
   ],
   "source": [
    "# Task 4\n",
    "employees_with_country = []\n",
    "company_country_map = {company['name']: company['country'] for company in company_detail_list}\n",
    "\n",
    "for employee in employee_detail_list:\n",
    "    company_name = employee['company']\n",
    "    country = company_country_map[company_name]\n",
    "    employees_with_country.append({\n",
    "        'full_name': employee['full_name'],\n",
    "        'company': company_name,\n",
    "        'country': country\n",
    "    })\n",
    "\n",
    "print(employees_with_country)"
   ]
  },
  {
   "cell_type": "code",
   "execution_count": 5,
   "id": "32653983-b41e-4505-8f59-14d1727530f0",
   "metadata": {},
   "outputs": [
    {
     "name": "stdout",
     "output_type": "stream",
     "text": [
      "[{'company': 'Company 1', 'employee_nationality': {'Australia': 2, 'United Kingdom': 1}}, {'company': 'Company 2', 'employee_nationality': {'United States': 1, 'Hong Kong': 1}}, {'company': 'Company 3', 'employee_nationality': {'United States': 2}}]\n"
     ]
    }
   ],
   "source": [
    "# Task 5\n",
    "company_nationality_count = defaultdict(lambda: defaultdict(int))\n",
    "\n",
    "for employee in employee_detail_list:\n",
    "    company_name = employee['company']\n",
    "    nationality = employee['nationality']\n",
    "    company_nationality_count[company_name][nationality] += 1\n",
    "\n",
    "company_nationality_list = [{'company': company, 'employee_nationality': dict(nationalities)}\n",
    "                            for company, nationalities in company_nationality_count.items()]\n",
    "\n",
    "print(company_nationality_list)"
   ]
  }
 ],
 "metadata": {
  "kernelspec": {
   "display_name": "Python 3 (ipykernel)",
   "language": "python",
   "name": "python3"
  },
  "language_info": {
   "codemirror_mode": {
    "name": "ipython",
    "version": 3
   },
   "file_extension": ".py",
   "mimetype": "text/x-python",
   "name": "python",
   "nbconvert_exporter": "python",
   "pygments_lexer": "ipython3",
   "version": "3.13.0"
  }
 },
 "nbformat": 4,
 "nbformat_minor": 5
}
